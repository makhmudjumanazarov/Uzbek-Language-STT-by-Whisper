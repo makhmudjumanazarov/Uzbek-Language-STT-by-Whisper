{
 "cells": [
  {
   "cell_type": "code",
   "execution_count": 1,
   "metadata": {},
   "outputs": [],
   "source": [
    "from huggingface_hub import notebook_login"
   ]
  },
  {
   "cell_type": "code",
   "execution_count": 2,
   "metadata": {},
   "outputs": [
    {
     "data": {
      "application/vnd.jupyter.widget-view+json": {
       "model_id": "7112692256ec467eaa07b2ffcfcd6a49",
       "version_major": 2,
       "version_minor": 0
      },
      "text/plain": [
       "VBox(children=(HTML(value='<center> <img\\nsrc=https://huggingface.co/front/assets/huggingface_logo-noborder.sv…"
      ]
     },
     "metadata": {},
     "output_type": "display_data"
    }
   ],
   "source": [
    "notebook_login()\n",
    "# # Perform the Hugging Face Hub login\n",
    "# notebook_login(username=\"your_username\", password=getpass.getpass(\"Enter your password: \"))\n"
   ]
  },
  {
   "cell_type": "code",
   "execution_count": 1,
   "metadata": {},
   "outputs": [
    {
     "name": "stderr",
     "output_type": "stream",
     "text": [
      "/home/airi/Makhmud/Whisper/whisper/lib/python3.9/site-packages/datasets/load.py:2483: FutureWarning: 'use_auth_token' was deprecated in favor of 'token' in version 2.14.0 and will be removed in 3.0.0.\n",
      "You can remove this warning by passing 'token=<use_auth_token>' instead.\n",
      "  warnings.warn(\n",
      "/home/airi/Makhmud/Whisper/whisper/lib/python3.9/site-packages/datasets/load.py:1429: FutureWarning: The repository for mozilla-foundation/common_voice_11_0 contains custom code which must be executed to correctly load the dataset. You can inspect the repository content at https://hf.co/datasets/mozilla-foundation/common_voice_11_0\n",
      "You can avoid this message in future by passing the argument `trust_remote_code=True`.\n",
      "Passing `trust_remote_code=True` will be mandatory to load this dataset from the next major release of `datasets`.\n",
      "  warnings.warn(\n"
     ]
    },
    {
     "data": {
      "application/vnd.jupyter.widget-view+json": {
       "model_id": "afec4e965ce741d5ab5573bfebf2e356",
       "version_major": 2,
       "version_minor": 0
      },
      "text/plain": [
       "Generating train split: 0 examples [00:00, ? examples/s]"
      ]
     },
     "metadata": {},
     "output_type": "display_data"
    },
    {
     "name": "stderr",
     "output_type": "stream",
     "text": [
      "Reading metadata...: 47606it [00:00, 194188.22it/s]\n"
     ]
    },
    {
     "data": {
      "application/vnd.jupyter.widget-view+json": {
       "model_id": "546b03a3c5654fd59b41509e56ebab08",
       "version_major": 2,
       "version_minor": 0
      },
      "text/plain": [
       "Generating validation split: 0 examples [00:00, ? examples/s]"
      ]
     },
     "metadata": {},
     "output_type": "display_data"
    },
    {
     "name": "stderr",
     "output_type": "stream",
     "text": [
      "Reading metadata...: 11727it [00:00, 225944.81it/s]\n"
     ]
    },
    {
     "data": {
      "application/vnd.jupyter.widget-view+json": {
       "model_id": "1853829ba8b9405badfe134339042548",
       "version_major": 2,
       "version_minor": 0
      },
      "text/plain": [
       "Generating test split: 0 examples [00:00, ? examples/s]"
      ]
     },
     "metadata": {},
     "output_type": "display_data"
    },
    {
     "name": "stderr",
     "output_type": "stream",
     "text": [
      "Reading metadata...: 12290it [00:00, 229840.76it/s]\n"
     ]
    },
    {
     "data": {
      "application/vnd.jupyter.widget-view+json": {
       "model_id": "ca8d8c68d1ec4dd4b159809fa0ec7296",
       "version_major": 2,
       "version_minor": 0
      },
      "text/plain": [
       "Generating other split: 0 examples [00:00, ? examples/s]"
      ]
     },
     "metadata": {},
     "output_type": "display_data"
    },
    {
     "name": "stderr",
     "output_type": "stream",
     "text": [
      "Reading metadata...: 126570it [00:00, 216186.97it/s]\n"
     ]
    },
    {
     "data": {
      "application/vnd.jupyter.widget-view+json": {
       "model_id": "70d2843f4ef64f0daa4c8dda72e7146b",
       "version_major": 2,
       "version_minor": 0
      },
      "text/plain": [
       "Generating invalidated split: 0 examples [00:00, ? examples/s]"
      ]
     },
     "metadata": {},
     "output_type": "display_data"
    },
    {
     "name": "stderr",
     "output_type": "stream",
     "text": [
      "Reading metadata...: 13448it [00:00, 222176.27it/s]\n",
      "/home/airi/Makhmud/Whisper/whisper/lib/python3.9/site-packages/datasets/load.py:2483: FutureWarning: 'use_auth_token' was deprecated in favor of 'token' in version 2.14.0 and will be removed in 3.0.0.\n",
      "You can remove this warning by passing 'token=<use_auth_token>' instead.\n",
      "  warnings.warn(\n",
      "/home/airi/Makhmud/Whisper/whisper/lib/python3.9/site-packages/datasets/load.py:1429: FutureWarning: The repository for mozilla-foundation/common_voice_11_0 contains custom code which must be executed to correctly load the dataset. You can inspect the repository content at https://hf.co/datasets/mozilla-foundation/common_voice_11_0\n",
      "You can avoid this message in future by passing the argument `trust_remote_code=True`.\n",
      "Passing `trust_remote_code=True` will be mandatory to load this dataset from the next major release of `datasets`.\n",
      "  warnings.warn(\n"
     ]
    },
    {
     "name": "stdout",
     "output_type": "stream",
     "text": [
      "DatasetDict({\n",
      "    train: Dataset({\n",
      "        features: ['client_id', 'path', 'audio', 'sentence', 'up_votes', 'down_votes', 'age', 'gender', 'accent', 'locale', 'segment'],\n",
      "        num_rows: 59333\n",
      "    })\n",
      "    test: Dataset({\n",
      "        features: ['client_id', 'path', 'audio', 'sentence', 'up_votes', 'down_votes', 'age', 'gender', 'accent', 'locale', 'segment'],\n",
      "        num_rows: 12290\n",
      "    })\n",
      "})\n"
     ]
    }
   ],
   "source": [
    "from datasets import load_dataset, DatasetDict\n",
    "\n",
    "common_voice = DatasetDict()\n",
    "\n",
    "common_voice[\"train\"] = load_dataset(\"mozilla-foundation/common_voice_11_0\", \"uz\", split=\"train+validation\", use_auth_token=True)\n",
    "common_voice[\"test\"] = load_dataset(\"mozilla-foundation/common_voice_11_0\", \"uz\", split=\"test\", use_auth_token=True)\n",
    "\n",
    "print(common_voice)"
   ]
  },
  {
   "cell_type": "code",
   "execution_count": 2,
   "metadata": {},
   "outputs": [
    {
     "name": "stdout",
     "output_type": "stream",
     "text": [
      "DatasetDict({\n",
      "    train: Dataset({\n",
      "        features: ['audio', 'sentence'],\n",
      "        num_rows: 59333\n",
      "    })\n",
      "    test: Dataset({\n",
      "        features: ['audio', 'sentence'],\n",
      "        num_rows: 12290\n",
      "    })\n",
      "})\n"
     ]
    }
   ],
   "source": [
    "common_voice = common_voice.remove_columns([\"accent\", \"age\", \"client_id\", \"down_votes\", \"gender\", \"locale\", \"path\", \"segment\", \"up_votes\"])\n",
    "\n",
    "print(common_voice)"
   ]
  },
  {
   "cell_type": "code",
   "execution_count": 3,
   "metadata": {},
   "outputs": [],
   "source": [
    "from transformers import WhisperFeatureExtractor\n",
    "\n",
    "feature_extractor = WhisperFeatureExtractor.from_pretrained(\"openai/whisper-small\")"
   ]
  },
  {
   "cell_type": "code",
   "execution_count": 4,
   "metadata": {},
   "outputs": [],
   "source": [
    "from transformers import WhisperTokenizer\n",
    "\n",
    "tokenizer = WhisperTokenizer.from_pretrained(\"openai/whisper-small\", language=\"Uzbek\", task=\"transcribe\")"
   ]
  },
  {
   "cell_type": "code",
   "execution_count": 5,
   "metadata": {},
   "outputs": [],
   "source": [
    "from transformers import WhisperProcessor\n",
    "\n",
    "processor = WhisperProcessor.from_pretrained(\"openai/whisper-small\", language=\"Uzbek\", task=\"transcribe\")"
   ]
  },
  {
   "cell_type": "code",
   "execution_count": 6,
   "metadata": {},
   "outputs": [
    {
     "name": "stdout",
     "output_type": "stream",
     "text": [
      "{'audio': {'path': '/home/airi/.cache/huggingface/datasets/downloads/extracted/d8ae35d60dec3978303d984bf8374c0369505fc6be06c0b87646162d487e4622/uz_train_0/common_voice_uz_28907218.mp3', 'array': array([ 4.26325641e-14,  0.00000000e+00,  9.94759830e-14, ...,\n",
      "       -5.12599363e-05, -8.97714926e-05, -6.41083534e-05]), 'sampling_rate': 48000}, 'sentence': 'Bugun ertalab Gyotenikiga taklifnoma oldim.'}\n"
     ]
    }
   ],
   "source": [
    "print(common_voice[\"train\"][0])"
   ]
  },
  {
   "cell_type": "code",
   "execution_count": 7,
   "metadata": {},
   "outputs": [
    {
     "name": "stdout",
     "output_type": "stream",
     "text": [
      "Bugun ertalab Gyotenikiga taklifnoma oldim.\n"
     ]
    },
    {
     "data": {
      "text/html": [
       "\n",
       "                <audio  controls=\"controls\" >\n",
       "                    <source src=\"data:audio/mpeg;base64,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\" type=\"audio/mpeg\" />\n",
       "                    Your browser does not support the audio element.\n",
       "                </audio>\n",
       "              "
      ],
      "text/plain": [
       "<IPython.lib.display.Audio object>"
      ]
     },
     "metadata": {},
     "output_type": "display_data"
    },
    {
     "name": "stdout",
     "output_type": "stream",
     "text": [
      "Uning badiiy tasvir imkoniyatlarini rivojlantiradi\n"
     ]
    },
    {
     "data": {
      "text/html": [
       "\n",
       "                <audio  controls=\"controls\" >\n",
       "                    <source src=\"data:audio/mpeg;base64,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\" type=\"audio/mpeg\" />\n",
       "                    Your browser does not support the audio element.\n",
       "                </audio>\n",
       "              "
      ],
      "text/plain": [
       "<IPython.lib.display.Audio object>"
      ]
     },
     "metadata": {},
     "output_type": "display_data"
    },
    {
     "name": "stdout",
     "output_type": "stream",
     "text": [
      "Udan ko’ra balandroq joy bor.\n"
     ]
    },
    {
     "data": {
      "text/html": [
       "\n",
       "                <audio  controls=\"controls\" >\n",
       "                    <source src=\"data:audio/mpeg;base64,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\" type=\"audio/mpeg\" />\n",
       "                    Your browser does not support the audio element.\n",
       "                </audio>\n",
       "              "
      ],
      "text/plain": [
       "<IPython.lib.display.Audio object>"
      ]
     },
     "metadata": {},
     "output_type": "display_data"
    }
   ],
   "source": [
    "from IPython.display import Audio\n",
    "\n",
    "def play_mp3(file_path):\n",
    "    return Audio(file_path)\n",
    "\n",
    "for i in range(0, 3):\n",
    "    print(common_voice[\"train\"][i]['sentence'])\n",
    "    audio_widget = play_mp3(common_voice[\"train\"][i]['audio']['path'])\n",
    "    display(audio_widget)\n",
    "    \n"
   ]
  },
  {
   "cell_type": "code",
   "execution_count": 8,
   "metadata": {},
   "outputs": [],
   "source": [
    "from datasets import Audio\n",
    "\n",
    "common_voice = common_voice.cast_column(\"audio\", Audio(sampling_rate=16000))"
   ]
  },
  {
   "cell_type": "code",
   "execution_count": 9,
   "metadata": {},
   "outputs": [],
   "source": [
    "def prepare_dataset(batch):\n",
    "    # load and resample audio data from 48 to 16kHz\n",
    "    audio = batch[\"audio\"]\n",
    "\n",
    "    # compute log-Mel input features from input audio array \n",
    "    batch[\"input_features\"] = feature_extractor(audio[\"array\"], sampling_rate=audio[\"sampling_rate\"]).input_features[0]\n",
    "\n",
    "    # encode target text to label ids \n",
    "    batch[\"labels\"] = tokenizer(batch[\"sentence\"]).input_ids\n",
    "\n",
    "    return batch"
   ]
  },
  {
   "cell_type": "code",
   "execution_count": 10,
   "metadata": {},
   "outputs": [
    {
     "data": {
      "application/vnd.jupyter.widget-view+json": {
       "model_id": "a597117744b04ce5b0455da1a87f4068",
       "version_major": 2,
       "version_minor": 0
      },
      "text/plain": [
       "Map (num_proc=4):   0%|          | 0/59333 [00:00<?, ? examples/s]"
      ]
     },
     "metadata": {},
     "output_type": "display_data"
    },
    {
     "data": {
      "application/vnd.jupyter.widget-view+json": {
       "model_id": "7c494fecccf34431b715558614b5518b",
       "version_major": 2,
       "version_minor": 0
      },
      "text/plain": [
       "Map (num_proc=4):   0%|          | 0/12290 [00:00<?, ? examples/s]"
      ]
     },
     "metadata": {},
     "output_type": "display_data"
    }
   ],
   "source": [
    "common_voice = common_voice.map(prepare_dataset, remove_columns=common_voice.column_names[\"train\"], num_proc=4)  "
   ]
  },
  {
   "cell_type": "code",
   "execution_count": 6,
   "metadata": {},
   "outputs": [],
   "source": [
    "import pickle"
   ]
  },
  {
   "cell_type": "code",
   "execution_count": 12,
   "metadata": {},
   "outputs": [],
   "source": [
    "\n",
    "\n",
    "# # Save the variable\n",
    "# with open('common_voice.pickle', 'wb') as f:\n",
    "#     pickle.dump(common_voice, f)\n"
   ]
  },
  {
   "cell_type": "code",
   "execution_count": 7,
   "metadata": {},
   "outputs": [
    {
     "data": {
      "text/plain": [
       "DatasetDict({\n",
       "    train: Dataset({\n",
       "        features: ['input_features', 'labels'],\n",
       "        num_rows: 59333\n",
       "    })\n",
       "    test: Dataset({\n",
       "        features: ['input_features', 'labels'],\n",
       "        num_rows: 12290\n",
       "    })\n",
       "})"
      ]
     },
     "execution_count": 7,
     "metadata": {},
     "output_type": "execute_result"
    }
   ],
   "source": [
    "# Load the variable\n",
    "with open('common_voice.pickle', 'rb') as f:\n",
    "    common_voice = pickle.load(f)\n",
    "common_voice"
   ]
  },
  {
   "cell_type": "code",
   "execution_count": 8,
   "metadata": {},
   "outputs": [],
   "source": [
    "# common_voice['train'][0]['labels']"
   ]
  },
  {
   "cell_type": "code",
   "execution_count": 8,
   "metadata": {},
   "outputs": [],
   "source": [
    "import torch\n",
    "\n",
    "from dataclasses import dataclass\n",
    "from typing import Any, Dict, List, Union\n",
    "\n",
    "@dataclass\n",
    "class DataCollatorSpeechSeq2SeqWithPadding:\n",
    "    processor: Any\n",
    "\n",
    "    def __call__(self, features: List[Dict[str, Union[List[int], torch.Tensor]]]) -> Dict[str, torch.Tensor]:\n",
    "        # split inputs and labels since they have to be of different lengths and need different padding methods\n",
    "        # first treat the audio inputs by simply returning torch tensors\n",
    "        input_features = [{\"input_features\": feature[\"input_features\"]} for feature in features]\n",
    "        batch = self.processor.feature_extractor.pad(input_features, return_tensors=\"pt\")\n",
    "\n",
    "        # get the tokenized label sequences\n",
    "        label_features = [{\"input_ids\": feature[\"labels\"]} for feature in features]\n",
    "        # pad the labels to max length\n",
    "        labels_batch = self.processor.tokenizer.pad(label_features, return_tensors=\"pt\")\n",
    "\n",
    "        # replace padding with -100 to ignore loss correctly\n",
    "        labels = labels_batch[\"input_ids\"].masked_fill(labels_batch.attention_mask.ne(1), -100)\n",
    "\n",
    "        # if bos token is appended in previous tokenization step,\n",
    "        # cut bos token here as it's append later anyways\n",
    "        if (labels[:, 0] == self.processor.tokenizer.bos_token_id).all().cpu().item():\n",
    "            labels = labels[:, 1:]\n",
    "\n",
    "        batch[\"labels\"] = labels\n",
    "\n",
    "        return batch"
   ]
  },
  {
   "cell_type": "code",
   "execution_count": 9,
   "metadata": {},
   "outputs": [],
   "source": [
    "data_collator = DataCollatorSpeechSeq2SeqWithPadding(processor=processor)"
   ]
  },
  {
   "cell_type": "code",
   "execution_count": 10,
   "metadata": {},
   "outputs": [
    {
     "data": {
      "text/plain": [
       "EvaluationModule(name: \"wer\", module_type: \"metric\", features: {'predictions': Value(dtype='string', id='sequence'), 'references': Value(dtype='string', id='sequence')}, usage: \"\"\"\n",
       "Compute WER score of transcribed segments against references.\n",
       "\n",
       "Args:\n",
       "    references: List of references for each speech input.\n",
       "    predictions: List of transcriptions to score.\n",
       "    concatenate_texts (bool, default=False): Whether to concatenate all input texts or compute WER iteratively.\n",
       "\n",
       "Returns:\n",
       "    (float): the word error rate\n",
       "\n",
       "Examples:\n",
       "\n",
       "    >>> predictions = [\"this is the prediction\", \"there is an other sample\"]\n",
       "    >>> references = [\"this is the reference\", \"there is another one\"]\n",
       "    >>> wer = evaluate.load(\"wer\")\n",
       "    >>> wer_score = wer.compute(predictions=predictions, references=references)\n",
       "    >>> print(wer_score)\n",
       "    0.5\n",
       "\"\"\", stored examples: 0)"
      ]
     },
     "execution_count": 10,
     "metadata": {},
     "output_type": "execute_result"
    }
   ],
   "source": [
    "import evaluate\n",
    "\n",
    "metric = evaluate.load(\"wer\")\n",
    "metric "
   ]
  },
  {
   "cell_type": "code",
   "execution_count": 11,
   "metadata": {},
   "outputs": [],
   "source": [
    "def compute_metrics(pred):\n",
    "    pred_ids = pred.predictions\n",
    "    label_ids = pred.label_ids\n",
    "\n",
    "    # replace -100 with the pad_token_id\n",
    "    label_ids[label_ids == -100] = tokenizer.pad_token_id\n",
    "\n",
    "    # we do not want to group tokens when computing the metrics\n",
    "    pred_str = tokenizer.batch_decode(pred_ids, skip_special_tokens=True)\n",
    "    label_str = tokenizer.batch_decode(label_ids, skip_special_tokens=True)\n",
    "\n",
    "    wer = 100 * metric.compute(predictions=pred_str, references=label_str)\n",
    "\n",
    "    return {\"wer\": wer}"
   ]
  },
  {
   "cell_type": "code",
   "execution_count": 12,
   "metadata": {},
   "outputs": [],
   "source": [
    "from transformers import WhisperForConditionalGeneration\n",
    "\n",
    "model = WhisperForConditionalGeneration.from_pretrained(\"openai/whisper-small\")"
   ]
  },
  {
   "cell_type": "code",
   "execution_count": 11,
   "metadata": {},
   "outputs": [
    {
     "data": {
      "text/plain": [
       "WhisperForConditionalGeneration(\n",
       "  (model): WhisperModel(\n",
       "    (encoder): WhisperEncoder(\n",
       "      (conv1): Conv1d(80, 768, kernel_size=(3,), stride=(1,), padding=(1,))\n",
       "      (conv2): Conv1d(768, 768, kernel_size=(3,), stride=(2,), padding=(1,))\n",
       "      (embed_positions): Embedding(1500, 768)\n",
       "      (layers): ModuleList(\n",
       "        (0-11): 12 x WhisperEncoderLayer(\n",
       "          (self_attn): WhisperSdpaAttention(\n",
       "            (k_proj): Linear(in_features=768, out_features=768, bias=False)\n",
       "            (v_proj): Linear(in_features=768, out_features=768, bias=True)\n",
       "            (q_proj): Linear(in_features=768, out_features=768, bias=True)\n",
       "            (out_proj): Linear(in_features=768, out_features=768, bias=True)\n",
       "          )\n",
       "          (self_attn_layer_norm): LayerNorm((768,), eps=1e-05, elementwise_affine=True)\n",
       "          (activation_fn): GELUActivation()\n",
       "          (fc1): Linear(in_features=768, out_features=3072, bias=True)\n",
       "          (fc2): Linear(in_features=3072, out_features=768, bias=True)\n",
       "          (final_layer_norm): LayerNorm((768,), eps=1e-05, elementwise_affine=True)\n",
       "        )\n",
       "      )\n",
       "      (layer_norm): LayerNorm((768,), eps=1e-05, elementwise_affine=True)\n",
       "    )\n",
       "    (decoder): WhisperDecoder(\n",
       "      (embed_tokens): Embedding(51865, 768, padding_idx=50257)\n",
       "      (embed_positions): WhisperPositionalEmbedding(448, 768)\n",
       "      (layers): ModuleList(\n",
       "        (0-11): 12 x WhisperDecoderLayer(\n",
       "          (self_attn): WhisperSdpaAttention(\n",
       "            (k_proj): Linear(in_features=768, out_features=768, bias=False)\n",
       "            (v_proj): Linear(in_features=768, out_features=768, bias=True)\n",
       "            (q_proj): Linear(in_features=768, out_features=768, bias=True)\n",
       "            (out_proj): Linear(in_features=768, out_features=768, bias=True)\n",
       "          )\n",
       "          (activation_fn): GELUActivation()\n",
       "          (self_attn_layer_norm): LayerNorm((768,), eps=1e-05, elementwise_affine=True)\n",
       "          (encoder_attn): WhisperSdpaAttention(\n",
       "            (k_proj): Linear(in_features=768, out_features=768, bias=False)\n",
       "            (v_proj): Linear(in_features=768, out_features=768, bias=True)\n",
       "            (q_proj): Linear(in_features=768, out_features=768, bias=True)\n",
       "            (out_proj): Linear(in_features=768, out_features=768, bias=True)\n",
       "          )\n",
       "          (encoder_attn_layer_norm): LayerNorm((768,), eps=1e-05, elementwise_affine=True)\n",
       "          (fc1): Linear(in_features=768, out_features=3072, bias=True)\n",
       "          (fc2): Linear(in_features=3072, out_features=768, bias=True)\n",
       "          (final_layer_norm): LayerNorm((768,), eps=1e-05, elementwise_affine=True)\n",
       "        )\n",
       "      )\n",
       "      (layer_norm): LayerNorm((768,), eps=1e-05, elementwise_affine=True)\n",
       "    )\n",
       "  )\n",
       "  (proj_out): Linear(in_features=768, out_features=51865, bias=False)\n",
       ")"
      ]
     },
     "execution_count": 11,
     "metadata": {},
     "output_type": "execute_result"
    }
   ],
   "source": [
    "# model "
   ]
  },
  {
   "cell_type": "code",
   "execution_count": 13,
   "metadata": {},
   "outputs": [],
   "source": [
    "model.config.forced_decoder_ids = None\n",
    "model.config.suppress_tokens = []"
   ]
  },
  {
   "cell_type": "code",
   "execution_count": 14,
   "metadata": {},
   "outputs": [],
   "source": [
    "from transformers import Seq2SeqTrainingArguments\n",
    "\n",
    "training_args = Seq2SeqTrainingArguments(\n",
    "    output_dir=\"./whisper-small-uz\",  # change to a repo name of your choice\n",
    "    per_device_train_batch_size=8,\n",
    "    gradient_accumulation_steps=2,  # increase by 2x for every 2x decrease in batch size\n",
    "    learning_rate=1e-5,\n",
    "    warmup_steps=500,\n",
    "    max_steps=4000,\n",
    "    # gradient_checkpointing=True,\n",
    "    fp16=True,\n",
    "    evaluation_strategy=\"steps\",\n",
    "    per_device_eval_batch_size=4,\n",
    "    predict_with_generate=True,\n",
    "    generation_max_length=225,\n",
    "    save_steps=1000,\n",
    "    eval_steps=1000,\n",
    "    logging_steps=25,\n",
    "    # report_to=[\"tensorboard\"],\n",
    "    load_best_model_at_end=True,\n",
    "    metric_for_best_model=\"wer\",\n",
    "    greater_is_better=False,\n",
    "    push_to_hub=True,\n",
    ")"
   ]
  },
  {
   "cell_type": "code",
   "execution_count": 15,
   "metadata": {},
   "outputs": [],
   "source": [
    "from transformers import Seq2SeqTrainer\n",
    "\n",
    "trainer = Seq2SeqTrainer(\n",
    "    args=training_args,\n",
    "    model=model,\n",
    "    train_dataset=common_voice[\"train\"],\n",
    "    eval_dataset=common_voice[\"test\"],\n",
    "    data_collator=data_collator,\n",
    "    compute_metrics=compute_metrics,\n",
    "    tokenizer=processor.feature_extractor,\n",
    ")"
   ]
  },
  {
   "cell_type": "code",
   "execution_count": 16,
   "metadata": {},
   "outputs": [],
   "source": [
    "processor.save_pretrained(training_args.output_dir)"
   ]
  },
  {
   "cell_type": "code",
   "execution_count": 17,
   "metadata": {},
   "outputs": [
    {
     "name": "stderr",
     "output_type": "stream",
     "text": [
      "/home/airi/Makhmud/Whisper/whisper/lib/python3.9/site-packages/torch/nn/parallel/_functions.py:68: UserWarning: Was asked to gather along dimension 0, but all input tensors were scalars; will instead unsqueeze and return a vector.\n",
      "  warnings.warn('Was asked to gather along dimension 0, but all '\n"
     ]
    },
    {
     "data": {
      "text/html": [
       "\n",
       "    <div>\n",
       "      \n",
       "      <progress value='4000' max='4000' style='width:300px; height:20px; vertical-align: middle;'></progress>\n",
       "      [4000/4000 9:08:48, Epoch 2/3]\n",
       "    </div>\n",
       "    <table border=\"1\" class=\"dataframe\">\n",
       "  <thead>\n",
       " <tr style=\"text-align: left;\">\n",
       "      <th>Step</th>\n",
       "      <th>Training Loss</th>\n",
       "      <th>Validation Loss</th>\n",
       "      <th>Wer</th>\n",
       "    </tr>\n",
       "  </thead>\n",
       "  <tbody>\n",
       "    <tr>\n",
       "      <td>1000</td>\n",
       "      <td>0.479400</td>\n",
       "      <td>0.450385</td>\n",
       "      <td>42.072152</td>\n",
       "    </tr>\n",
       "    <tr>\n",
       "      <td>2000</td>\n",
       "      <td>0.313000</td>\n",
       "      <td>0.382111</td>\n",
       "      <td>38.939187</td>\n",
       "    </tr>\n",
       "    <tr>\n",
       "      <td>3000</td>\n",
       "      <td>0.294800</td>\n",
       "      <td>0.346848</td>\n",
       "      <td>35.427000</td>\n",
       "    </tr>\n",
       "    <tr>\n",
       "      <td>4000</td>\n",
       "      <td>0.249000</td>\n",
       "      <td>0.341582</td>\n",
       "      <td>34.928488</td>\n",
       "    </tr>\n",
       "  </tbody>\n",
       "</table><p>"
      ],
      "text/plain": [
       "<IPython.core.display.HTML object>"
      ]
     },
     "metadata": {},
     "output_type": "display_data"
    },
    {
     "name": "stderr",
     "output_type": "stream",
     "text": [
      "Checkpoint destination directory ./whisper-small-uz/checkpoint-1000 already exists and is non-empty.Saving will proceed but saved results may be invalid.\n",
      "/home/airi/Makhmud/Whisper/whisper/lib/python3.9/site-packages/torch/nn/parallel/_functions.py:68: UserWarning: Was asked to gather along dimension 0, but all input tensors were scalars; will instead unsqueeze and return a vector.\n",
      "  warnings.warn('Was asked to gather along dimension 0, but all '\n",
      "/home/airi/Makhmud/Whisper/whisper/lib/python3.9/site-packages/torch/nn/parallel/_functions.py:68: UserWarning: Was asked to gather along dimension 0, but all input tensors were scalars; will instead unsqueeze and return a vector.\n",
      "  warnings.warn('Was asked to gather along dimension 0, but all '\n",
      "/home/airi/Makhmud/Whisper/whisper/lib/python3.9/site-packages/torch/nn/parallel/_functions.py:68: UserWarning: Was asked to gather along dimension 0, but all input tensors were scalars; will instead unsqueeze and return a vector.\n",
      "  warnings.warn('Was asked to gather along dimension 0, but all '\n",
      "There were missing keys in the checkpoint model loaded: ['proj_out.weight'].\n"
     ]
    },
    {
     "data": {
      "text/plain": [
       "TrainOutput(global_step=4000, training_loss=0.5372962049245834, metrics={'train_runtime': 32936.1817, 'train_samples_per_second': 3.886, 'train_steps_per_second': 0.121, 'total_flos': 3.693258236215296e+19, 'train_loss': 0.5372962049245834, 'epoch': 2.16})"
      ]
     },
     "execution_count": 17,
     "metadata": {},
     "output_type": "execute_result"
    }
   ],
   "source": [
    "trainer.train()"
   ]
  },
  {
   "cell_type": "code",
   "execution_count": 64,
   "metadata": {},
   "outputs": [],
   "source": [
    "kwargs = {\n",
    "    \"dataset_tags\": \"mozilla-foundation/common_voice_11_0\",\n",
    "    \"dataset\": \"Common Voice 11.0\",  # a 'pretty' name for the training dataset\n",
    "    \"dataset_args\": \"config: uz, split: test\",\n",
    "    \"language\": \"uz\",\n",
    "    \"model_name\": \"Whisper Small Uz - Makhmud Jumanazarov\",  # a 'pretty' name for our model\n",
    "    \"finetuned_from\": \"openai/whisper\",\n",
    "    \"tasks\": \"automatic-speech-recognition\",\n",
    "    \"tags\": \"hf-asr-leaderboard\",\n",
    "}"
   ]
  },
  {
   "cell_type": "code",
   "execution_count": 59,
   "metadata": {},
   "outputs": [
    {
     "name": "stderr",
     "output_type": "stream",
     "text": [
      "Special tokens have been added in the vocabulary, make sure the associated word embeddings are fine-tuned or trained.\n"
     ]
    }
   ],
   "source": [
    "from transformers import WhisperForConditionalGeneration, WhisperTokenizer\n",
    "\n",
    "# Load the trained model and tokenizer\n",
    "model = WhisperForConditionalGeneration.from_pretrained(\"./whisper-small-uz\")\n",
    "tokenizer = WhisperTokenizer.from_pretrained(\"./whisper-small-uz\")"
   ]
  },
  {
   "cell_type": "code",
   "execution_count": 7,
   "metadata": {},
   "outputs": [],
   "source": [
    "# trainer.push_to_hub(**kwargs)"
   ]
  },
  {
   "cell_type": "code",
   "execution_count": 3,
   "metadata": {},
   "outputs": [
    {
     "ename": "AttributeError",
     "evalue": "partially initialized module 'gradio' has no attribute 'Interface' (most likely due to a circular import)",
     "output_type": "error",
     "traceback": [
      "\u001b[0;31m---------------------------------------------------------------------------\u001b[0m",
      "\u001b[0;31mAttributeError\u001b[0m                            Traceback (most recent call last)",
      "Cell \u001b[0;32mIn[3], line 2\u001b[0m\n\u001b[1;32m      1\u001b[0m \u001b[38;5;28;01mfrom\u001b[39;00m \u001b[38;5;21;01mtransformers\u001b[39;00m \u001b[38;5;28;01mimport\u001b[39;00m pipeline\n\u001b[0;32m----> 2\u001b[0m \u001b[38;5;28;01mimport\u001b[39;00m \u001b[38;5;21;01mgradio\u001b[39;00m \u001b[38;5;28;01mas\u001b[39;00m \u001b[38;5;21;01mgr\u001b[39;00m\n\u001b[1;32m      4\u001b[0m pipe \u001b[38;5;241m=\u001b[39m pipeline(model\u001b[38;5;241m=\u001b[39m\u001b[38;5;124m\"\u001b[39m\u001b[38;5;124mMakhmud/whisper-uzbek\u001b[39m\u001b[38;5;124m\"\u001b[39m)  \u001b[38;5;66;03m# change to \"your-username/the-name-you-picked\"\u001b[39;00m\n\u001b[1;32m      6\u001b[0m \u001b[38;5;28;01mdef\u001b[39;00m \u001b[38;5;21mtranscribe\u001b[39m(audio):\n",
      "File \u001b[0;32m~/Makhmud/Whisper/gradio.py:8\u001b[0m\n\u001b[1;32m      5\u001b[0m     output_text \u001b[38;5;241m=\u001b[39m \u001b[38;5;124m\"\u001b[39m\u001b[38;5;124mYou entered: \u001b[39m\u001b[38;5;124m\"\u001b[39m \u001b[38;5;241m+\u001b[39m input_text\n\u001b[1;32m      6\u001b[0m     \u001b[38;5;28;01mreturn\u001b[39;00m output_text\n\u001b[0;32m----> 8\u001b[0m iface \u001b[38;5;241m=\u001b[39m \u001b[43mgr\u001b[49m\u001b[38;5;241;43m.\u001b[39;49m\u001b[43mInterface\u001b[49m(fn\u001b[38;5;241m=\u001b[39myour_function, inputs\u001b[38;5;241m=\u001b[39m\u001b[38;5;124m\"\u001b[39m\u001b[38;5;124mtext\u001b[39m\u001b[38;5;124m\"\u001b[39m, outputs\u001b[38;5;241m=\u001b[39m\u001b[38;5;124m\"\u001b[39m\u001b[38;5;124mtext\u001b[39m\u001b[38;5;124m\"\u001b[39m, live\u001b[38;5;241m=\u001b[39m\u001b[38;5;28;01mTrue\u001b[39;00m)\n\u001b[1;32m     10\u001b[0m \u001b[38;5;66;03m# Use the 'launch' method with the specified port\u001b[39;00m\n\u001b[1;32m     11\u001b[0m iface\u001b[38;5;241m.\u001b[39mlaunch(share\u001b[38;5;241m=\u001b[39m\u001b[38;5;28;01mTrue\u001b[39;00m, port\u001b[38;5;241m=\u001b[39m\u001b[38;5;241m8001\u001b[39m)\n",
      "\u001b[0;31mAttributeError\u001b[0m: partially initialized module 'gradio' has no attribute 'Interface' (most likely due to a circular import)"
     ]
    }
   ],
   "source": [
    "from transformers import pipeline\n",
    "import gradio as gr\n",
    "\n",
    "pipe = pipeline(model=\"Makhmud/whisper-uzbek\")  # change to \"your-username/the-name-you-picked\"\n",
    "\n",
    "def transcribe(audio):\n",
    "    text = pipe(audio)[\"text\"]\n",
    "    return text\n",
    "\n",
    "iface = gr.Interface(\n",
    "    fn=transcribe, \n",
    "    inputs=gr.Audio(sources=\"microphone\", type=\"filepath\"), \n",
    "    outputs=\"text\",\n",
    "    title=\"Whisper Small Uzbek\",\n",
    "    description=\"Realtime demo for Uzbek speech recognition using a fine-tuned Whisper small model.\",\n",
    ")\n",
    "\n",
    "iface.launch()"
   ]
  },
  {
   "cell_type": "code",
   "execution_count": 10,
   "metadata": {},
   "outputs": [
    {
     "data": {
      "text/plain": [
       "WhisperForCausalLM(\n",
       "  (model): WhisperDecoderWrapper(\n",
       "    (decoder): WhisperDecoder(\n",
       "      (embed_tokens): Embedding(51865, 768, padding_idx=50257)\n",
       "      (embed_positions): WhisperPositionalEmbedding(448, 768)\n",
       "      (layers): ModuleList(\n",
       "        (0-11): 12 x WhisperDecoderLayer(\n",
       "          (self_attn): WhisperSdpaAttention(\n",
       "            (k_proj): Linear(in_features=768, out_features=768, bias=False)\n",
       "            (v_proj): Linear(in_features=768, out_features=768, bias=True)\n",
       "            (q_proj): Linear(in_features=768, out_features=768, bias=True)\n",
       "            (out_proj): Linear(in_features=768, out_features=768, bias=True)\n",
       "          )\n",
       "          (activation_fn): GELUActivation()\n",
       "          (self_attn_layer_norm): LayerNorm((768,), eps=1e-05, elementwise_affine=True)\n",
       "          (encoder_attn): WhisperSdpaAttention(\n",
       "            (k_proj): Linear(in_features=768, out_features=768, bias=False)\n",
       "            (v_proj): Linear(in_features=768, out_features=768, bias=True)\n",
       "            (q_proj): Linear(in_features=768, out_features=768, bias=True)\n",
       "            (out_proj): Linear(in_features=768, out_features=768, bias=True)\n",
       "          )\n",
       "          (encoder_attn_layer_norm): LayerNorm((768,), eps=1e-05, elementwise_affine=True)\n",
       "          (fc1): Linear(in_features=768, out_features=3072, bias=True)\n",
       "          (fc2): Linear(in_features=3072, out_features=768, bias=True)\n",
       "          (final_layer_norm): LayerNorm((768,), eps=1e-05, elementwise_affine=True)\n",
       "        )\n",
       "      )\n",
       "      (layer_norm): LayerNorm((768,), eps=1e-05, elementwise_affine=True)\n",
       "    )\n",
       "  )\n",
       "  (proj_out): Linear(in_features=768, out_features=51865, bias=False)\n",
       ")"
      ]
     },
     "execution_count": 10,
     "metadata": {},
     "output_type": "execute_result"
    }
   ],
   "source": [
    "from transformers import AutoModelForCausalLM\n",
    "\n",
    "model = AutoModelForCausalLM.from_pretrained('./whisper-small-uz')\n",
    "model.from_pretrained"
   ]
  },
  {
   "cell_type": "code",
   "execution_count": 16,
   "metadata": {},
   "outputs": [
    {
     "name": "stderr",
     "output_type": "stream",
     "text": [
      "Special tokens have been added in the vocabulary, make sure the associated word embeddings are fine-tuned or trained.\n"
     ]
    },
    {
     "name": "stdout",
     "output_type": "stream",
     "text": [
      "{'path': '0d38672e0bbdbdc460af55b8bb84a15b2730db2819f2af64f9c777d4d586f2de', 'array': array([0.00238037, 0.0020752 , 0.00198364, ..., 0.00024414, 0.00048828,\n",
      "       0.0005188 ]), 'sampling_rate': 16000}\n",
      " Mr. Quilter is the apostle of the middle classes, and we are glad to welcome his gospel. Nor is Mr. Quilter's manner less interesting than his madder. He tells us that at this festive season of the year, with Christmas and roast beef looming before us, similes drawn from eating and its results occur most readily to the mind. He has grave doubts whether Sir Frederick Layton's work is really Greek after all, and can discover in it but little of rocky ethika. Lenel's pictures are a sort of Upguards and Adam paintings, and Mason's exquisite Ittols-Ira's National-A a jingo poem. Mr. Birkut Foster's landscapes smile at one much in the same way that Mr. Karker used to flash his teeth. And Mr. Jon Kodir gives his sitter a cheerful slap in the back, before he says, like a shampoos in a Turkish bath,\n"
     ]
    }
   ],
   "source": [
    "import torch\n",
    "from transformers import AutoModelForSpeechSeq2Seq, AutoProcessor, pipeline\n",
    "from datasets import load_dataset\n",
    "\n",
    "device = \"cuda:0\" if torch.cuda.is_available() else \"cpu\"\n",
    "torch_dtype = torch.float16 if torch.cuda.is_available() else torch.float32\n",
    "\n",
    "model_id = \"./whisper-small-uz\"\n",
    "\n",
    "model = AutoModelForSpeechSeq2Seq.from_pretrained(\n",
    "    model_id, torch_dtype=torch_dtype, low_cpu_mem_usage=True, use_safetensors=True\n",
    ")\n",
    "model.to(device)\n",
    "\n",
    "processor = AutoProcessor.from_pretrained(model_id)\n",
    "\n",
    "pipe = pipeline(\n",
    "    \"automatic-speech-recognition\",\n",
    "    model=model,\n",
    "    tokenizer=processor.tokenizer,\n",
    "    feature_extractor=processor.feature_extractor,\n",
    "    max_new_tokens=128,\n",
    "    chunk_length_s=30,\n",
    "    batch_size=16,\n",
    "    return_timestamps=True,\n",
    "    torch_dtype=torch_dtype,\n",
    "    device=device,\n",
    ")\n"
   ]
  },
  {
   "cell_type": "code",
   "execution_count": 38,
   "metadata": {},
   "outputs": [
    {
     "name": "stderr",
     "output_type": "stream",
     "text": [
      "Whisper did not predict an ending timestamp, which can happen if audio is cut off in the middle of a word. Also make sure WhisperTimeStampLogitsProcessor was used during generation.\n"
     ]
    },
    {
     "name": "stdout",
     "output_type": "stream",
     "text": [
      "Dam botib, dam chiqib sekingina qirg‘oqqa keldi. Qizlar qichuv bilan ushlab ham oldilar.Suv bilan shalabbo bo‘lg‘on to‘pni, Sharofotxon oldida, huvqochma yo‘lgin, tutilding-ku, deb yerga urdi.Uning bu ishiga Abulla Jallokning qizi To‘txonning achchig‘\n"
     ]
    }
   ],
   "source": [
    "import torchaudio\n",
    "from pathlib import Path\n",
    "\n",
    "\n",
    "# Replace the dataset loading code\n",
    "audio_path = \"/home/airi/Makhmud/Whisper/cho-lpon-qor-qo-ynida-lola-hikoya_8WZpEwuV.mp3\"\n",
    "\n",
    "# Load the audio file using torchaudio\n",
    "waveform, sample_rate = torchaudio.load(audio_path, normalize=True, channels_first=True)\n",
    "\n",
    "# If the audio has multiple channels, select the first channel\n",
    "if waveform.shape[0] > 1:\n",
    "    waveform = waveform[0, :]\n",
    "\n",
    "# Prepare the input dictionary for the pipeline\n",
    "input_dict = {\"raw\": waveform.numpy(), \"sampling_rate\": sample_rate}\n",
    "\n",
    "# Perform automatic speech recognition on the local audio file\n",
    "result = pipe(input_dict)\n",
    "\n",
    "# Print the recognized text\n",
    "print(result[\"text\"])\n"
   ]
  },
  {
   "cell_type": "code",
   "execution_count": null,
   "metadata": {},
   "outputs": [],
   "source": []
  }
 ],
 "metadata": {
  "kernelspec": {
   "display_name": "whisper",
   "language": "python",
   "name": "python3"
  },
  "language_info": {
   "codemirror_mode": {
    "name": "ipython",
    "version": 3
   },
   "file_extension": ".py",
   "mimetype": "text/x-python",
   "name": "python",
   "nbconvert_exporter": "python",
   "pygments_lexer": "ipython3",
   "version": "3.9.18"
  }
 },
 "nbformat": 4,
 "nbformat_minor": 2
}
